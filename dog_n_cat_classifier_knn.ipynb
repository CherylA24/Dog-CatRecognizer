{
  "nbformat": 4,
  "nbformat_minor": 0,
  "metadata": {
    "colab": {
      "name": "dog n cat classifier knn.ipynb",
      "provenance": [],
      "authorship_tag": "ABX9TyMbY2wnZQyW1RA/GiAxNmeQ",
      "include_colab_link": true
    },
    "kernelspec": {
      "name": "python3",
      "display_name": "Python 3"
    },
    "language_info": {
      "name": "python"
    }
  },
  "cells": [
    {
      "cell_type": "markdown",
      "metadata": {
        "id": "view-in-github",
        "colab_type": "text"
      },
      "source": [
        "<a href=\"https://colab.research.google.com/github/CherylA24/Dog-CatRecognizer/blob/main/dog_n_cat_classifier_knn.ipynb\" target=\"_parent\"><img src=\"https://colab.research.google.com/assets/colab-badge.svg\" alt=\"Open In Colab\"/></a>"
      ]
    },
    {
      "cell_type": "markdown",
      "source": [
        "**Cheryl Angelica - 2301855854**"
      ],
      "metadata": {
        "id": "M6H6u2ymjJGP"
      }
    },
    {
      "cell_type": "code",
      "source": [
        "# I install this version opencv to run SIFT \n",
        "\n",
        "!pip install opencv-contrib-python==3.4.2.17"
      ],
      "metadata": {
        "colab": {
          "base_uri": "https://localhost:8080/",
          "height": 297
        },
        "id": "vki4M9XA_5_j",
        "outputId": "c365387a-910c-490b-c828-7a0bf6e24002"
      },
      "execution_count": null,
      "outputs": [
        {
          "output_type": "stream",
          "name": "stdout",
          "text": [
            "Collecting opencv-contrib-python==3.4.2.17\n",
            "  Downloading opencv_contrib_python-3.4.2.17-cp37-cp37m-manylinux1_x86_64.whl (30.6 MB)\n",
            "\u001b[K     |████████████████████████████████| 30.6 MB 1.2 MB/s \n",
            "\u001b[?25hRequirement already satisfied: numpy>=1.14.5 in /usr/local/lib/python3.7/dist-packages (from opencv-contrib-python==3.4.2.17) (1.19.5)\n",
            "Installing collected packages: opencv-contrib-python\n",
            "  Attempting uninstall: opencv-contrib-python\n",
            "    Found existing installation: opencv-contrib-python 4.1.2.30\n",
            "    Uninstalling opencv-contrib-python-4.1.2.30:\n",
            "      Successfully uninstalled opencv-contrib-python-4.1.2.30\n",
            "Successfully installed opencv-contrib-python-3.4.2.17\n"
          ]
        },
        {
          "output_type": "display_data",
          "data": {
            "application/vnd.colab-display-data+json": {
              "pip_warning": {
                "packages": [
                  "cv2"
                ]
              }
            }
          },
          "metadata": {}
        }
      ]
    },
    {
      "cell_type": "markdown",
      "source": [
        "--> Import Necessary Library"
      ],
      "metadata": {
        "id": "qLbAJs_jjGUd"
      }
    },
    {
      "cell_type": "code",
      "execution_count": null,
      "metadata": {
        "id": "GzHGgs7miAtV"
      },
      "outputs": [],
      "source": [
        "import cv2 as cv\n",
        "import numpy as np\n",
        "from matplotlib import pyplot as plt\n",
        "import os\n",
        "from scipy.cluster.vq import kmeans, vq\n",
        "from sklearn import preprocessing\n",
        "from sklearn.model_selection import train_test_split\n",
        "from sklearn.neighbors import KNeighborsClassifier\n",
        "import seaborn as sn"
      ]
    },
    {
      "cell_type": "markdown",
      "source": [
        "1. Selecting representative images from an image dataset (https://www.kaggle.com/c/dogs-vs-cats/)"
      ],
      "metadata": {
        "id": "hiK7Gu7Jn5wa"
      }
    },
    {
      "cell_type": "code",
      "source": [
        "# Load Train Dataset and Define img_list and label category\n",
        "\n",
        "image_path = \"dataset/train/\"\n",
        "img_list = []\n",
        "label = []\n",
        "\n",
        "for img in os.listdir(image_path):\n",
        "  if img.endswith('jpg'):\n",
        "    img_path = os.path.join(image_path, img)\n",
        "    category = img.split('.')[0]\n",
        "    label.append(category)\n",
        "    img_list.append(img_path)"
      ],
      "metadata": {
        "id": "LDuZl168n_FH"
      },
      "execution_count": null,
      "outputs": []
    },
    {
      "cell_type": "code",
      "source": [
        "# Check the data and the category related\n",
        "\n",
        "import pandas as pd\n",
        "df = pd.DataFrame({\n",
        "    'filename': img_list,\n",
        "    'category': label\n",
        "})\n",
        "\n",
        "df.head()"
      ],
      "metadata": {
        "colab": {
          "base_uri": "https://localhost:8080/",
          "height": 206
        },
        "id": "wWgGWOSq2QwO",
        "outputId": "06262cd7-74d7-466e-d018-e6c17c6e3978"
      },
      "execution_count": null,
      "outputs": [
        {
          "output_type": "execute_result",
          "data": {
            "text/html": [
              "\n",
              "  <div id=\"df-556658ae-b449-47da-9e30-44c14e28e2f5\">\n",
              "    <div class=\"colab-df-container\">\n",
              "      <div>\n",
              "<style scoped>\n",
              "    .dataframe tbody tr th:only-of-type {\n",
              "        vertical-align: middle;\n",
              "    }\n",
              "\n",
              "    .dataframe tbody tr th {\n",
              "        vertical-align: top;\n",
              "    }\n",
              "\n",
              "    .dataframe thead th {\n",
              "        text-align: right;\n",
              "    }\n",
              "</style>\n",
              "<table border=\"1\" class=\"dataframe\">\n",
              "  <thead>\n",
              "    <tr style=\"text-align: right;\">\n",
              "      <th></th>\n",
              "      <th>filename</th>\n",
              "      <th>category</th>\n",
              "    </tr>\n",
              "  </thead>\n",
              "  <tbody>\n",
              "    <tr>\n",
              "      <th>0</th>\n",
              "      <td>dataset/train/cat.661.jpg</td>\n",
              "      <td>cat</td>\n",
              "    </tr>\n",
              "    <tr>\n",
              "      <th>1</th>\n",
              "      <td>dataset/train/dog.347.jpg</td>\n",
              "      <td>dog</td>\n",
              "    </tr>\n",
              "    <tr>\n",
              "      <th>2</th>\n",
              "      <td>dataset/train/dog.633.jpg</td>\n",
              "      <td>dog</td>\n",
              "    </tr>\n",
              "    <tr>\n",
              "      <th>3</th>\n",
              "      <td>dataset/train/dog.314.jpg</td>\n",
              "      <td>dog</td>\n",
              "    </tr>\n",
              "    <tr>\n",
              "      <th>4</th>\n",
              "      <td>dataset/train/dog.398.jpg</td>\n",
              "      <td>dog</td>\n",
              "    </tr>\n",
              "  </tbody>\n",
              "</table>\n",
              "</div>\n",
              "      <button class=\"colab-df-convert\" onclick=\"convertToInteractive('df-556658ae-b449-47da-9e30-44c14e28e2f5')\"\n",
              "              title=\"Convert this dataframe to an interactive table.\"\n",
              "              style=\"display:none;\">\n",
              "        \n",
              "  <svg xmlns=\"http://www.w3.org/2000/svg\" height=\"24px\"viewBox=\"0 0 24 24\"\n",
              "       width=\"24px\">\n",
              "    <path d=\"M0 0h24v24H0V0z\" fill=\"none\"/>\n",
              "    <path d=\"M18.56 5.44l.94 2.06.94-2.06 2.06-.94-2.06-.94-.94-2.06-.94 2.06-2.06.94zm-11 1L8.5 8.5l.94-2.06 2.06-.94-2.06-.94L8.5 2.5l-.94 2.06-2.06.94zm10 10l.94 2.06.94-2.06 2.06-.94-2.06-.94-.94-2.06-.94 2.06-2.06.94z\"/><path d=\"M17.41 7.96l-1.37-1.37c-.4-.4-.92-.59-1.43-.59-.52 0-1.04.2-1.43.59L10.3 9.45l-7.72 7.72c-.78.78-.78 2.05 0 2.83L4 21.41c.39.39.9.59 1.41.59.51 0 1.02-.2 1.41-.59l7.78-7.78 2.81-2.81c.8-.78.8-2.07 0-2.86zM5.41 20L4 18.59l7.72-7.72 1.47 1.35L5.41 20z\"/>\n",
              "  </svg>\n",
              "      </button>\n",
              "      \n",
              "  <style>\n",
              "    .colab-df-container {\n",
              "      display:flex;\n",
              "      flex-wrap:wrap;\n",
              "      gap: 12px;\n",
              "    }\n",
              "\n",
              "    .colab-df-convert {\n",
              "      background-color: #E8F0FE;\n",
              "      border: none;\n",
              "      border-radius: 50%;\n",
              "      cursor: pointer;\n",
              "      display: none;\n",
              "      fill: #1967D2;\n",
              "      height: 32px;\n",
              "      padding: 0 0 0 0;\n",
              "      width: 32px;\n",
              "    }\n",
              "\n",
              "    .colab-df-convert:hover {\n",
              "      background-color: #E2EBFA;\n",
              "      box-shadow: 0px 1px 2px rgba(60, 64, 67, 0.3), 0px 1px 3px 1px rgba(60, 64, 67, 0.15);\n",
              "      fill: #174EA6;\n",
              "    }\n",
              "\n",
              "    [theme=dark] .colab-df-convert {\n",
              "      background-color: #3B4455;\n",
              "      fill: #D2E3FC;\n",
              "    }\n",
              "\n",
              "    [theme=dark] .colab-df-convert:hover {\n",
              "      background-color: #434B5C;\n",
              "      box-shadow: 0px 1px 3px 1px rgba(0, 0, 0, 0.15);\n",
              "      filter: drop-shadow(0px 1px 2px rgba(0, 0, 0, 0.3));\n",
              "      fill: #FFFFFF;\n",
              "    }\n",
              "  </style>\n",
              "\n",
              "      <script>\n",
              "        const buttonEl =\n",
              "          document.querySelector('#df-556658ae-b449-47da-9e30-44c14e28e2f5 button.colab-df-convert');\n",
              "        buttonEl.style.display =\n",
              "          google.colab.kernel.accessAllowed ? 'block' : 'none';\n",
              "\n",
              "        async function convertToInteractive(key) {\n",
              "          const element = document.querySelector('#df-556658ae-b449-47da-9e30-44c14e28e2f5');\n",
              "          const dataTable =\n",
              "            await google.colab.kernel.invokeFunction('convertToInteractive',\n",
              "                                                     [key], {});\n",
              "          if (!dataTable) return;\n",
              "\n",
              "          const docLinkHtml = 'Like what you see? Visit the ' +\n",
              "            '<a target=\"_blank\" href=https://colab.research.google.com/notebooks/data_table.ipynb>data table notebook</a>'\n",
              "            + ' to learn more about interactive tables.';\n",
              "          element.innerHTML = '';\n",
              "          dataTable['output_type'] = 'display_data';\n",
              "          await google.colab.output.renderOutput(dataTable, element);\n",
              "          const docLink = document.createElement('div');\n",
              "          docLink.innerHTML = docLinkHtml;\n",
              "          element.appendChild(docLink);\n",
              "        }\n",
              "      </script>\n",
              "    </div>\n",
              "  </div>\n",
              "  "
            ],
            "text/plain": [
              "                    filename category\n",
              "0  dataset/train/cat.661.jpg      cat\n",
              "1  dataset/train/dog.347.jpg      dog\n",
              "2  dataset/train/dog.633.jpg      dog\n",
              "3  dataset/train/dog.314.jpg      dog\n",
              "4  dataset/train/dog.398.jpg      dog"
            ]
          },
          "metadata": {},
          "execution_count": 27
        }
      ]
    },
    {
      "cell_type": "markdown",
      "source": [
        "2. Split the data into *X_train, X_test, y_train, y_test*"
      ],
      "metadata": {
        "id": "uFR3fuE2bTJh"
      }
    },
    {
      "cell_type": "code",
      "source": [
        "# Split the data (I split it into 20% of test data and 80% of train data)\n",
        "\n",
        "X_train, X_test, y_train, y_test = train_test_split(img_list, label, test_size=0.2, random_state=42)"
      ],
      "metadata": {
        "id": "FWabGBlw1O_k"
      },
      "execution_count": null,
      "outputs": []
    },
    {
      "cell_type": "markdown",
      "source": [
        "3.\tCollect all the SIFT descriptors from the images in 1 array"
      ],
      "metadata": {
        "id": "Qj_GWzMZqApF"
      }
    },
    {
      "cell_type": "code",
      "source": [
        "SIFT = cv.xfeatures2d.SIFT_create()\n",
        "desc_list = []\n",
        "\n",
        "for image in X_train:\n",
        "  _, desc = SIFT.detectAndCompute(cv.imread(image), None)\n",
        "  desc_list.append(desc)"
      ],
      "metadata": {
        "id": "vuxaJwG3p9T8"
      },
      "execution_count": null,
      "outputs": []
    },
    {
      "cell_type": "markdown",
      "source": [
        "4.\tCluster these descriptors using K Means into k number of clusters where k is a number i set. The center of these clusters are the \"visual words\" i.e. representative features in your database of images."
      ],
      "metadata": {
        "id": "R-5IfFUPrZuv"
      }
    },
    {
      "cell_type": "code",
      "source": [
        "k = 100\n",
        "\n",
        "descriptors = desc_list[0][1]\n",
        "for desc in desc_list[1:]:\n",
        "  descriptors = np.vstack((descriptors, desc))\n",
        "\n",
        "centroids, _ = kmeans(descriptors, k, 1)"
      ],
      "metadata": {
        "id": "s8GJnmoUrfH_"
      },
      "execution_count": null,
      "outputs": []
    },
    {
      "cell_type": "markdown",
      "source": [
        "5. Create a vector V that counts how frequently the different features in the dictionary occurs"
      ],
      "metadata": {
        "id": "HH-G-7f8tlwB"
      }
    },
    {
      "cell_type": "code",
      "source": [
        "vector = np.zeros((len(X_train), k), \"float32\")\n",
        "\n",
        "for i in range(len(X_train)):\n",
        "  words, _ = vq(desc_list[i], centroids)\n",
        "  for w in words:\n",
        "    vector[i][w] += 1\n",
        "\n",
        "counter = np.sum((vector > 0) * 1, axis= 0)\n",
        "df = np.array(np.log((1.0 * len(X_train) +1 )/(1.0 * counter + 1)), 'float64')\n",
        "\n",
        "freq_histogram = vector * df"
      ],
      "metadata": {
        "id": "brrrc02EtoeY"
      },
      "execution_count": null,
      "outputs": []
    },
    {
      "cell_type": "markdown",
      "source": [
        "6. Normalize the histogram so that images with very different number of SIFT key-points found can be made comparable."
      ],
      "metadata": {
        "id": "pfpHKbUOvuFe"
      }
    },
    {
      "cell_type": "code",
      "source": [
        "freq_histogram = preprocessing.normalize(freq_histogram)"
      ],
      "metadata": {
        "id": "8IrbrvaDvjok"
      },
      "execution_count": null,
      "outputs": []
    },
    {
      "cell_type": "markdown",
      "source": [
        "7.\tDo step 3 to step 6 to find frequency histogram in test data "
      ],
      "metadata": {
        "id": "XAhmr_nIxktq"
      }
    },
    {
      "cell_type": "code",
      "source": [
        "# Create SIFT for test descriptor and collect into 1 list\n",
        "\n",
        "SIFT = cv.xfeatures2d.SIFT_create()\n",
        "test_desc_list = []\n",
        "\n",
        "for image in X_test:\n",
        "  _, test_desc = SIFT.detectAndCompute(cv.imread(image), None)\n",
        "  test_desc_list.append(test_desc)"
      ],
      "metadata": {
        "id": "6iJ_x-Ovz-tN"
      },
      "execution_count": null,
      "outputs": []
    },
    {
      "cell_type": "code",
      "source": [
        "# Cluster the descriptor using kmeans with k number that I set earlier in clustering the train descriptors\n",
        "\n",
        "test_descriptors = test_desc_list[0][1]\n",
        "for test_desc in test_desc_list[1:]:\n",
        "  test_descriptors = np.vstack((test_descriptors, test_desc))\n",
        "\n",
        "test_centroids, _ = kmeans(test_descriptors, k, 1)"
      ],
      "metadata": {
        "id": "77YlNbTiPsMf"
      },
      "execution_count": null,
      "outputs": []
    },
    {
      "cell_type": "code",
      "source": [
        "# Create a vector V that counts how frequently the different features in the dictionary occurs\n",
        "\n",
        "test_vector = np.zeros((len(X_test), k), \"float32\")\n",
        "\n",
        "for i in range(len(X_test)):\n",
        "  test_words, _ = vq(test_desc_list[i], test_centroids)\n",
        "  for test_w in test_words:\n",
        "    test_vector[i][test_w] += 1\n",
        "\n",
        "test_counter = np.sum((test_vector > 0) * 1, axis= 0)\n",
        "test_df = np.array(np.log((1.0 * len(X_test) +1 )/(1.0 * test_counter + 1)), 'float64')\n",
        "\n",
        "test_freq_histogram = test_vector * test_df"
      ],
      "metadata": {
        "id": "raj8xponGwwN"
      },
      "execution_count": null,
      "outputs": []
    },
    {
      "cell_type": "code",
      "source": [
        "# Normalize the histogram so that images with very different number of SIFT key-points found can be made comparable\n",
        "test_freq_histogram = preprocessing.normalize(test_freq_histogram)"
      ],
      "metadata": {
        "id": "VZkfvMwGHPqQ"
      },
      "execution_count": null,
      "outputs": []
    },
    {
      "cell_type": "markdown",
      "source": [
        "8. Using K-NN to predict the categories in X_test"
      ],
      "metadata": {
        "id": "4R4fkbeVeF8Z"
      }
    },
    {
      "cell_type": "code",
      "source": [
        "# Look for the best k (n_neighbors)\n",
        "knn_r_acc = []\n",
        "for i in range(1,21,1):\n",
        "    knn_model = KNeighborsClassifier(n_neighbors=i)\n",
        "    knn_model.fit(freq_histogram,y_train)\n",
        "    test_score = knn_model.score(test_freq_histogram,y_test)\n",
        "    train_score = knn_model.score(freq_histogram,y_train)\n",
        "    knn_r_acc.append((i, test_score ,train_score))\n",
        "dataframe = pd.DataFrame(knn_r_acc, columns=['K','Test Score','Train Score'])\n",
        "print(dataframe)"
      ],
      "metadata": {
        "colab": {
          "base_uri": "https://localhost:8080/"
        },
        "id": "iGjmnQKqmBFT",
        "outputId": "16d94e9c-75ad-4d7b-fdd9-cbe4f73c214b"
      },
      "execution_count": null,
      "outputs": [
        {
          "output_type": "stream",
          "name": "stdout",
          "text": [
            "     K  Test Score  Train Score\n",
            "0    1      0.5525     1.000000\n",
            "1    2      0.4975     0.835625\n",
            "2    3      0.5575     0.801875\n",
            "3    4      0.5425     0.776250\n",
            "4    5      0.5750     0.751875\n",
            "5    6      0.5500     0.750000\n",
            "6    7      0.5575     0.726250\n",
            "7    8      0.5775     0.728750\n",
            "8    9      0.5650     0.721250\n",
            "9   10      0.5625     0.723750\n",
            "10  11      0.5575     0.715000\n",
            "11  12      0.5650     0.715625\n",
            "12  13      0.5700     0.704375\n",
            "13  14      0.5975     0.708750\n",
            "14  15      0.5850     0.698750\n",
            "15  16      0.6000     0.702500\n",
            "16  17      0.5925     0.688125\n",
            "17  18      0.6025     0.687500\n",
            "18  19      0.5900     0.686250\n",
            "19  20      0.5975     0.690000\n"
          ]
        }
      ]
    },
    {
      "cell_type": "code",
      "source": [
        "# Make the model and train the model to train's frequency histogram and it's label\n",
        "\n",
        "knn_model = KNeighborsClassifier(n_neighbors=18)\n",
        "knn_model.fit(freq_histogram, y_train)"
      ],
      "metadata": {
        "colab": {
          "base_uri": "https://localhost:8080/"
        },
        "id": "mR2QoESFJmNa",
        "outputId": "45830fa8-e16f-4cd5-d161-48a71ecf22f1"
      },
      "execution_count": null,
      "outputs": [
        {
          "output_type": "execute_result",
          "data": {
            "text/plain": [
              "KNeighborsClassifier(n_neighbors=18)"
            ]
          },
          "metadata": {},
          "execution_count": 44
        }
      ]
    },
    {
      "cell_type": "code",
      "source": [
        "# Predict the model into test's frequency histogram\n",
        "pred = knn_model.predict(test_freq_histogram)"
      ],
      "metadata": {
        "id": "_CGsOkKfP8vL"
      },
      "execution_count": null,
      "outputs": []
    },
    {
      "cell_type": "code",
      "source": [
        "# Print the data prediction and actual label\n",
        "\n",
        "data = pd.DataFrame({\n",
        "    'actual': y_test,\n",
        "    'prediction': pred\n",
        "})\n",
        "\n",
        "data.head()"
      ],
      "metadata": {
        "colab": {
          "base_uri": "https://localhost:8080/",
          "height": 206
        },
        "id": "z2AHYMAiRMSa",
        "outputId": "f95a1d3d-e773-44ed-d798-af60dd93c7d2"
      },
      "execution_count": null,
      "outputs": [
        {
          "output_type": "execute_result",
          "data": {
            "text/html": [
              "\n",
              "  <div id=\"df-c19ed0ea-74e7-4355-b848-34c9906680ae\">\n",
              "    <div class=\"colab-df-container\">\n",
              "      <div>\n",
              "<style scoped>\n",
              "    .dataframe tbody tr th:only-of-type {\n",
              "        vertical-align: middle;\n",
              "    }\n",
              "\n",
              "    .dataframe tbody tr th {\n",
              "        vertical-align: top;\n",
              "    }\n",
              "\n",
              "    .dataframe thead th {\n",
              "        text-align: right;\n",
              "    }\n",
              "</style>\n",
              "<table border=\"1\" class=\"dataframe\">\n",
              "  <thead>\n",
              "    <tr style=\"text-align: right;\">\n",
              "      <th></th>\n",
              "      <th>actual</th>\n",
              "      <th>prediction</th>\n",
              "    </tr>\n",
              "  </thead>\n",
              "  <tbody>\n",
              "    <tr>\n",
              "      <th>0</th>\n",
              "      <td>dog</td>\n",
              "      <td>cat</td>\n",
              "    </tr>\n",
              "    <tr>\n",
              "      <th>1</th>\n",
              "      <td>dog</td>\n",
              "      <td>cat</td>\n",
              "    </tr>\n",
              "    <tr>\n",
              "      <th>2</th>\n",
              "      <td>dog</td>\n",
              "      <td>dog</td>\n",
              "    </tr>\n",
              "    <tr>\n",
              "      <th>3</th>\n",
              "      <td>cat</td>\n",
              "      <td>cat</td>\n",
              "    </tr>\n",
              "    <tr>\n",
              "      <th>4</th>\n",
              "      <td>cat</td>\n",
              "      <td>dog</td>\n",
              "    </tr>\n",
              "  </tbody>\n",
              "</table>\n",
              "</div>\n",
              "      <button class=\"colab-df-convert\" onclick=\"convertToInteractive('df-c19ed0ea-74e7-4355-b848-34c9906680ae')\"\n",
              "              title=\"Convert this dataframe to an interactive table.\"\n",
              "              style=\"display:none;\">\n",
              "        \n",
              "  <svg xmlns=\"http://www.w3.org/2000/svg\" height=\"24px\"viewBox=\"0 0 24 24\"\n",
              "       width=\"24px\">\n",
              "    <path d=\"M0 0h24v24H0V0z\" fill=\"none\"/>\n",
              "    <path d=\"M18.56 5.44l.94 2.06.94-2.06 2.06-.94-2.06-.94-.94-2.06-.94 2.06-2.06.94zm-11 1L8.5 8.5l.94-2.06 2.06-.94-2.06-.94L8.5 2.5l-.94 2.06-2.06.94zm10 10l.94 2.06.94-2.06 2.06-.94-2.06-.94-.94-2.06-.94 2.06-2.06.94z\"/><path d=\"M17.41 7.96l-1.37-1.37c-.4-.4-.92-.59-1.43-.59-.52 0-1.04.2-1.43.59L10.3 9.45l-7.72 7.72c-.78.78-.78 2.05 0 2.83L4 21.41c.39.39.9.59 1.41.59.51 0 1.02-.2 1.41-.59l7.78-7.78 2.81-2.81c.8-.78.8-2.07 0-2.86zM5.41 20L4 18.59l7.72-7.72 1.47 1.35L5.41 20z\"/>\n",
              "  </svg>\n",
              "      </button>\n",
              "      \n",
              "  <style>\n",
              "    .colab-df-container {\n",
              "      display:flex;\n",
              "      flex-wrap:wrap;\n",
              "      gap: 12px;\n",
              "    }\n",
              "\n",
              "    .colab-df-convert {\n",
              "      background-color: #E8F0FE;\n",
              "      border: none;\n",
              "      border-radius: 50%;\n",
              "      cursor: pointer;\n",
              "      display: none;\n",
              "      fill: #1967D2;\n",
              "      height: 32px;\n",
              "      padding: 0 0 0 0;\n",
              "      width: 32px;\n",
              "    }\n",
              "\n",
              "    .colab-df-convert:hover {\n",
              "      background-color: #E2EBFA;\n",
              "      box-shadow: 0px 1px 2px rgba(60, 64, 67, 0.3), 0px 1px 3px 1px rgba(60, 64, 67, 0.15);\n",
              "      fill: #174EA6;\n",
              "    }\n",
              "\n",
              "    [theme=dark] .colab-df-convert {\n",
              "      background-color: #3B4455;\n",
              "      fill: #D2E3FC;\n",
              "    }\n",
              "\n",
              "    [theme=dark] .colab-df-convert:hover {\n",
              "      background-color: #434B5C;\n",
              "      box-shadow: 0px 1px 3px 1px rgba(0, 0, 0, 0.15);\n",
              "      filter: drop-shadow(0px 1px 2px rgba(0, 0, 0, 0.3));\n",
              "      fill: #FFFFFF;\n",
              "    }\n",
              "  </style>\n",
              "\n",
              "      <script>\n",
              "        const buttonEl =\n",
              "          document.querySelector('#df-c19ed0ea-74e7-4355-b848-34c9906680ae button.colab-df-convert');\n",
              "        buttonEl.style.display =\n",
              "          google.colab.kernel.accessAllowed ? 'block' : 'none';\n",
              "\n",
              "        async function convertToInteractive(key) {\n",
              "          const element = document.querySelector('#df-c19ed0ea-74e7-4355-b848-34c9906680ae');\n",
              "          const dataTable =\n",
              "            await google.colab.kernel.invokeFunction('convertToInteractive',\n",
              "                                                     [key], {});\n",
              "          if (!dataTable) return;\n",
              "\n",
              "          const docLinkHtml = 'Like what you see? Visit the ' +\n",
              "            '<a target=\"_blank\" href=https://colab.research.google.com/notebooks/data_table.ipynb>data table notebook</a>'\n",
              "            + ' to learn more about interactive tables.';\n",
              "          element.innerHTML = '';\n",
              "          dataTable['output_type'] = 'display_data';\n",
              "          await google.colab.output.renderOutput(dataTable, element);\n",
              "          const docLink = document.createElement('div');\n",
              "          docLink.innerHTML = docLinkHtml;\n",
              "          element.appendChild(docLink);\n",
              "        }\n",
              "      </script>\n",
              "    </div>\n",
              "  </div>\n",
              "  "
            ],
            "text/plain": [
              "  actual prediction\n",
              "0    dog        cat\n",
              "1    dog        cat\n",
              "2    dog        dog\n",
              "3    cat        cat\n",
              "4    cat        dog"
            ]
          },
          "metadata": {},
          "execution_count": 46
        }
      ]
    },
    {
      "cell_type": "code",
      "source": [
        "# Calculate the accuracy of the model\n",
        "\n",
        "acc = knn_model.score(test_freq_histogram, y_test)\n",
        "print(\"accuracy: {:.2f}%\".format(acc * 100))"
      ],
      "metadata": {
        "colab": {
          "base_uri": "https://localhost:8080/"
        },
        "id": "BZ2mopDiQR8X",
        "outputId": "74d00833-db7e-4406-aad4-74c44868f635"
      },
      "execution_count": null,
      "outputs": [
        {
          "output_type": "stream",
          "name": "stdout",
          "text": [
            "accuracy: 60.25%\n"
          ]
        }
      ]
    },
    {
      "cell_type": "code",
      "source": [
        "# Create confusion matrix\n",
        "\n",
        "confusion_matrix = pd.crosstab(data['prediction'], data['actual'], rownames=['prediction'], \n",
        "                               colnames=['actual'])\n",
        "\n",
        "sn.heatmap(confusion_matrix, annot=True)\n",
        "plt.show()"
      ],
      "metadata": {
        "colab": {
          "base_uri": "https://localhost:8080/",
          "height": 279
        },
        "id": "VtbBk9ncUoSd",
        "outputId": "4f568113-c87b-42ce-8092-5b163e61881d"
      },
      "execution_count": null,
      "outputs": [
        {
          "output_type": "display_data",
          "data": {
            "image/png": "[encoded data removed]",
            "text/plain": [
              "<Figure size 432x288 with 2 Axes>"
            ]
          },
          "metadata": {
            "needs_background": "light"
          }
        }
      ]
    }
  ]
}